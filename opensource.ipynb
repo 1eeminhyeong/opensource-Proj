{
  "cells": [
    {
      "cell_type": "code",
      "execution_count": null,
      "metadata": {
        "colab": {
          "base_uri": "https://localhost:8080/"
        },
        "id": "lE6_wn7ZYH0b",
        "outputId": "c39cc9f8-140d-499f-c270-c4b22696262d"
      },
      "outputs": [
        {
          "output_type": "stream",
          "name": "stdout",
          "text": [
            "Mounted at /content/drive\n"
          ]
        }
      ],
      "source": [
        "#Google cloud 불러오기 (공유 폴더)\n",
        "from google.colab import drive\n",
        "drive.mount('/content/drive')"
      ]
    },
    {
      "cell_type": "code",
      "source": [
        "from IPython.core.splitinput import LineInfo\n",
        "!pip install googletrans==3.1.0a0\n",
        "from googletrans import Translator\n",
        "\n",
        "\n",
        "log = open(\"/content/drive/MyDrive/OpenSource/kakaotalk_log.txt\", 'r')\n",
        "line = log.readline()\n",
        "line = log.readline()\n",
        "line = log.readline() #첫 세줄은 무시한다.\n",
        "\n",
        "translator = Translator(raise_exception=True)\n",
        "print()\n",
        "user_name = \"[박준석 형]\" #input(\"자신의 이름을 입력하세요: \")\n",
        "other_name = \"[이민형]\" #input(\"상대방의 이름을 입력하세요: \")\n",
        "user_name_length = len(user_name)\n",
        "other_name_length = len(other_name)\n",
        "chat_log = \"\"\n",
        "\n",
        "while True :\n",
        "    line = log.readline() # 문장단위로 읽어옴\n",
        "    if not line : \n",
        "      f = open(\"/content/drive/MyDrive/OpenSource/result.txt\", 'w')\n",
        "      f.write(chat_log)\n",
        "      f.close()      \n",
        "      log.close()\n",
        "      print(chat_log)\n",
        "      break\n",
        "\n",
        "    if line[0:user_name_length] == user_name :\n",
        "      line = log.readline()\n",
        "      continue\n",
        "    if line[0:2] == \"송금\" :\n",
        "      line = log.readline()\n",
        "      continue\n",
        "    if line[0:2] == \"받은\" :\n",
        "      line = log.readline()\n",
        "      continue\n",
        "    if line[0] == '-' :\n",
        "      line = log.readline()\n",
        "      continue\n",
        "    \n",
        "    newline = line[other_name_length + 11 :]\n",
        "    newline = newline.strip() #상대방 대화로그 추출\n",
        "    trans_log = translator.translate(newline).text\n",
        "\n",
        "    chat_log = chat_log + \" \" + trans_log\n",
        "\n",
        "\n",
        "\n"
      ],
      "metadata": {
        "colab": {
          "base_uri": "https://localhost:8080/"
        },
        "id": "HTb43jgdh-VS",
        "outputId": "ee43cbf0-f8a5-42f9-c1fd-b22e0353eeb4"
      },
      "execution_count": null,
      "outputs": [
        {
          "output_type": "stream",
          "name": "stdout",
          "text": [
            "Looking in indexes: https://pypi.org/simple, https://us-python.pkg.dev/colab-wheels/public/simple/\n",
            "Collecting googletrans==3.1.0a0\n",
            "  Downloading googletrans-3.1.0a0.tar.gz (19 kB)\n",
            "Collecting httpx==0.13.3\n",
            "  Downloading httpx-0.13.3-py3-none-any.whl (55 kB)\n",
            "\u001b[K     |████████████████████████████████| 55 kB 2.3 MB/s \n",
            "\u001b[?25hRequirement already satisfied: chardet==3.* in /usr/local/lib/python3.7/dist-packages (from httpx==0.13.3->googletrans==3.1.0a0) (3.0.4)\n",
            "Collecting rfc3986<2,>=1.3\n",
            "  Downloading rfc3986-1.5.0-py2.py3-none-any.whl (31 kB)\n",
            "Requirement already satisfied: idna==2.* in /usr/local/lib/python3.7/dist-packages (from httpx==0.13.3->googletrans==3.1.0a0) (2.10)\n",
            "Collecting httpcore==0.9.*\n",
            "  Downloading httpcore-0.9.1-py3-none-any.whl (42 kB)\n",
            "\u001b[K     |████████████████████████████████| 42 kB 958 kB/s \n",
            "\u001b[?25hRequirement already satisfied: certifi in /usr/local/lib/python3.7/dist-packages (from httpx==0.13.3->googletrans==3.1.0a0) (2022.9.24)\n",
            "Collecting sniffio\n",
            "  Downloading sniffio-1.3.0-py3-none-any.whl (10 kB)\n",
            "Collecting hstspreload\n",
            "  Downloading hstspreload-2022.11.1-py3-none-any.whl (1.4 MB)\n",
            "\u001b[K     |████████████████████████████████| 1.4 MB 10.0 MB/s \n",
            "\u001b[?25hCollecting h11<0.10,>=0.8\n",
            "  Downloading h11-0.9.0-py2.py3-none-any.whl (53 kB)\n",
            "\u001b[K     |████████████████████████████████| 53 kB 2.0 MB/s \n",
            "\u001b[?25hCollecting h2==3.*\n",
            "  Downloading h2-3.2.0-py2.py3-none-any.whl (65 kB)\n",
            "\u001b[K     |████████████████████████████████| 65 kB 3.2 MB/s \n",
            "\u001b[?25hCollecting hyperframe<6,>=5.2.0\n",
            "  Downloading hyperframe-5.2.0-py2.py3-none-any.whl (12 kB)\n",
            "Collecting hpack<4,>=3.0\n",
            "  Downloading hpack-3.0.0-py2.py3-none-any.whl (38 kB)\n",
            "Building wheels for collected packages: googletrans\n",
            "  Building wheel for googletrans (setup.py) ... \u001b[?25l\u001b[?25hdone\n",
            "  Created wheel for googletrans: filename=googletrans-3.1.0a0-py3-none-any.whl size=16368 sha256=08b095323af144a8a3553429c5f89b02de89c4336ce249e8ab6b9f8f2036e39d\n",
            "  Stored in directory: /root/.cache/pip/wheels/0c/be/fe/93a6a40ffe386e16089e44dad9018ebab9dc4cb9eb7eab65ae\n",
            "Successfully built googletrans\n",
            "Installing collected packages: hyperframe, hpack, sniffio, h2, h11, rfc3986, httpcore, hstspreload, httpx, googletrans\n",
            "Successfully installed googletrans-3.1.0a0 h11-0.9.0 h2-3.2.0 hpack-3.0.0 hstspreload-2022.11.1 httpcore-0.9.1 httpx-0.13.3 hyperframe-5.2.0 rfc3986-1.5.0 sniffio-1.3.0\n",
            "\n",
            " Do you hear me too? a lot of dogs where are you haha I see.. Rice after... ? Oh no way it's over Have you heard of circuit theory? Photo come here Is this your classroom?? Elbe.. I have a class at 1:30 How old are you? Ha ha ha ha go like that me in 15 minutes possible .. Hyung, I have something to do before class. I don't think I can eat it. Sorry OK right in front that last year Too bad I didn't buy it It's okay because it's new I'm thinking about whether to live Actually, you have to wear it to know emoticon I'm too tired to go to the gym... Let's go haha Is today holiday? I overslept today Have you tried it about one size I think you should buy a big one I 110 salagon No but let's buy it I guess I won't be able to wear it for a few months. the experiment 2 Are you talking?? If you combine these two equations, the theoretical value the same value loop1 and 2 to r2 Because the direction is opposite The signs seem to be reversed I think... I see up to 3 kids he loosened up just asking Ha ha ha ha ha ha ha ha ha ha ha ha ha .. brother's school? I should I have a class at 1:30 How long do you have class go together? that ,, about 1 hour 15 minutes Can you wait..? no, at that 1:30 I think I will go haha.. emoticon OK Did you do the dinon assignment?? I'm blocked from the 2nd time... at 3 times a Find the 2's complement of two numbers Photo What happens when you subtract 1 from 0? Isn't that how you solve it?? ah I knew right away thank you brother already done Ohh did you eat Photo and this When I add it, I have 1 left on top. What should I do,, Wrong then Is not it as a 6-bit binary number then what is number 2 He's just talking about finding an 8-bit binary number 2's complement It's a problem to save Let's eat rice... when I slowly can i go out Hmm I'll get one It's okay I haven't tried it here ricotta that's the building I don't understand number 5 Help why is it there I don't know, emoticon Did you finish eating... ? Brother Dinon Project The friend I met in the middle of the road the other day Let's do it together What do you think lol He has one friend four people together hahahaha Nice i'm experimenting school now??? OK emoticon I picked a new one I feel good emoticon I also have Omphang. lol where is my girlfriend... what's the class Ha ha ha ha ha ha see you tomorrow morning squat 10 degrees at 60 It's hard... too weak lol 10 6 4 like this... Are you loosening up? on this day has exist on chicken breast Hetbahn.. best dinner report only have to start paying No. 3 strlen strtok like this No matter how hard I try, I can't Doing it 4 times... I can't believe that up to four traces of number 4 come out. I can't That's a problem... LOL I'm going to exercise today... 5 hours left cheetah run emoticon I can't solve it 3 or 4 times, but I'll try to solve it not yet I have to go with the mindset of giving flesh and taking bones.. Can I submit more?? lol 12 hours have it 10 percent It's a deduction I saw it earlier suddenly invisible what Eulmaena Eulmaena okay lol than gimbap country It's cheap lol muchin it must be delicious How long is the class I see what are you doing Haha I was going to ask hyung about that. I feel so sorry for Yu-Wan.. I don't know how to roll it Hyung Ham?? Ha ha ha ha happy campus that Not hard to solve?? lol Photo out of mind I think I'm leaving lol Is it particularly hot today? Originally, I couldn't have been like this, but at this time rather great messed up haha Did you buy an Imti? What do you think File: Dinon test.zip gift with the most expensive lol Just kidding, buy me coffee haha Obvious seniors, obvious juniors Didn't you apply?? what I got it wrong Joe is out no Don't press submit after writing Is it or not? emoticon check several times I wouldn't have missed it long time ago From what I remember from the lecture I think he said he only saw the finale. code is long Ah, I'll send it via KakaoTalk #include <iostream> m>  std;  har* mintermArr1, char* arr2, int size); //swap the values ​​of the two arrays * num1, int* num2); //swap two integers ar* type1, char* type2); //swap two minterm types     // How many bits is minterm , Count = 0; //count is the number of lines (=true + don't' care), mCount is the number of true minterms    ---------Beginning part------ code \"input_minterm.txt\");  unable to open\" << endl;    ; n.eof()) { (Ctemp); mp == '\\n') count++;       input_minterm.txt\"); mArr = new char* [count]; //save minterm from file Type = new char[count + 1]; //save whether minterm is true or don't care count] = '\\0';  Store interm number, initialize minterm array  unable to open\" << endl;    = 0; i < count; i++) mintermArr[i] = new char[bit]; 0; .eof()) { intermType[count]; termType[count] == 'm') mCount++; intermArr[count];   = 0; i < count; i++) { intermType[i]; termType[i] == 'm') mCount++; intermArr[i];     ------------[Step 1]-----\" << endl; : \" << bit << endl; : \" << count << endl; Value entered from : \" << endl; 0; i < count; i++) { ntermType[i] << \" \" << mintermArr[i] << endl;    ---------Beginning part------ r = new char* [mCount]; //true minterm 배열 0; i < mCount; i++) trueArr[i] = new char[bit]; = new int[count]; //Array of the number of 1's   t care + true minterm array created by dynamic allocation (already created from 1-1)   created with dynamic allocation of minterm array 0; i < count; i++) { mType[i] == 'm') { t j = 0; j < bit; j++) { Arr[temp][j] = mintermArr[i][j];        ------------beginning--------- centuries The number of 1's in: \"; 0; i < count; i++) { 0; = 0; j < bit; j++) { termArr[i][j] == '1') num++;  ] = num; mOfOne[i] << \" \";    Sort by the same number 0; i < count - 1; i++) { = i; j < count - 1; j++) { OfOne[j] > numOfOne[j + 1]) { Array(mintermArr[j], mintermArr[j + 1], bit); Num(&numOfOne[j], &numOfOne[j + 1]); Type(&mintermType[j], &mintermType[j + 1]);      ---------Beginning part------  Of One = new int[bit + 1]; //Array to store the number of things with the same number of 1s (if 0 1 2 2, store 1 1 2 in the array)   Proceed through columns 2, 3... until no << \"----------------[step 3]-----------------\" << endl; = 0; Save all minterms marked with an X in new char* [count]; 0; i < count; i++) ew char[bit];  nt = count;  = new char* [count]; //array to store minterms at each step 0; i < bit; i++) = new char[bit];  lumn = new char* [columnCount]; //array to store minterms in next step 0; i < columnCount; i++) [i] = new char[bit];  rmCount = count;  Since the method is different for the first one, use an if statement to change the task in the middle) = 0; loop < 3; loop++) { termColumn = new char* [columnCount]; = 0; i < columnCount; i++) Column[i] = new char[bit];  = 0) { t i = 0; i < columnCount; i++) { (int j = 0; j < bit; j++) { intermColumn[i][j] = mintermArr[i][j];     t i = 0; i < columnCount; i++) { (int j = 0; j < bit; j++) { intermColumn[i][j] = nextColumn[i][j];     -<\" << loop + 1 << \"In the second iteration\" << \">--\" << endl;   One = new int[columnCount]; //Array of the number of 1's count the number of The number of 1's in the line: \"; = 0; i < columnCount; i++) { = 0; t j = 0; j < bit; j++) { mintermColumn[i][j] == '1' || mintermColumn[i][j] == '-') num++;  e[i] = whether; numOfOne[i] << \" \";    Sort by the same number of = 0; i < columnCount - 1; i++) { t j = i; j < columnCount - 1; j++) { numOfOne[j] > numOfOne[j + 1]) { wapArray(mintermColumn[j], mintermColumn[j + 1], bit); wapNum(&numOfOne[j], &numOfOne[j + 1]); wapType(&mintermType[j], &mintermType[j + 1]);      ------------Beginning---------  NumOfOne = new int[bit + 1]; //Array to store the number of things with the same number of 1s (if 0 1 2 2, store 1 1 2 in the array) Start = new int[bit + 2]; = 0; i < bit + 2; i++) indexStart[i] = 0;  = 0; i < bit + 1; i++) { mOfOne[i] = 0; t j = 0; j < columnCount; j++) { numOfOne[j] == i) { ountNumOfOne[i]++; or (int k = i + 1; k < bit + 2; k++) indexStart[k]++;      dl << endl << \"--<replay step 2>--\"; dl << \"After sorting: \" << endl; = 0; i < columnCount; i++) { mintermType[i] << \" \"; t j = 0; j < bit; j++) { << mintermColumn[i][j];  endl;   The number of 1's in the line: \"; = 0; i < columnCount; i++) { numOfOne[i] << \" \";   dl << \"Sum of things with the same number of 1: \"; = 0; i < bit + 1; i++) { countNumOfOne[i] << \" \";  dl << \"Each starting index value: \"; = 0; i < bit + 2; i++) { indexStart[i] << \" \";  dl << endl;  Create row array Minterm = new bool[columnCount]; //v sign next to minterm is saved as O, * sign is saved as X = 0; i < columnCount; i++) term[i] = false;  mCount = columnCount; //temporarily save for output Minterm = new char[bit + 1];  t = 0; Stores true for minterm indexes used in sedMinterm and false for minterm indexes that do not. amming Distance\" << endl; = 0; i < bit; i++) { t j = indexStart[i]; j < indexStart[i + 1]; j++) { (int k = indexStart[i + 1]; k < indexStart[i + 2]; k++) { nt hammingDistance = 0; or (int index = 0; index < bit; index++) { if (mintermColumn[j][index] != mintermColumn[k][index]) { hammingDistance++; }  out << hammingDistance << \" \"; f (hammingDistance == 1) { //check the two minterms used when the hamming distance is 1 (enter true) usedMinterm[j] = true; usedMinterm[k] = true;   for (int index = 0; index < bit; index++) { //create a minterm by temporarily summing two minterms with tempMinterm if (mintermColumn[j][index] == mintermColumn[k][index]) tempMinterm[index] = mintermColumn[j][index]; else if (mintermColumn[j][index] == '-' && mintermColumn[k][index] == 1) tempMinterm[index] = mintermColumn[j][index]; else if (mintermColumn[j][index] == '-' && mintermColumn[k][index] == 0) tempMinterm[index] = mintermColumn[j][index]; else if (mintermColumn[j][index] == 0 && mintermColumn[k][index] == '-') tempMinterm[index] = mintermColumn[j][index]; else if (mintermColumn[j][index] == 1 && mintermColumn[k][index] == '-') tempMinterm[index] = mintermColumn[j][index]; else tempMinterm[index] = '-'; }  int already = bit; for (int x = 0; x < columnCount; x++) { //Check if tempMinterm already exists in nextColumn already = bit; for (int y = 0; y < bit; y++) { if (nextColumn[x][y] == '-') already--; else if (nextColumn[x][y] == tempMinterm[y]) already--; } } if (already != 0) { for (int index = 0; index < bit; index++) { //save if no value equals tempMinterm nextColumn[columnCount][index] = tempMinterm[index]; } columnCount++; }   << \"& \";  endl;      dl << \"nextColumn : \" << endl; = 0; i < columnCount; i++) { t j = 0; j < bit; j++) { << nextColumn[i][j];  endl;  dl << \"usedMinterm[] : \"; = 0; i < usedMintermCount; i++) { dMinterm[i]) << \"O \";  << \"X \";   If sedMinterm is false, the corresponding minterm is stored in PIsCount. = 0; i < usedMintermCount; i++) { edMinterm[i]) { (int j = 0; j < bit; j++) { Is[PIsCount][j] = mintermColumn[i][j];  ount++;     dl << endl << \"PIs[] : \"; = 0; i < PIsCount; i++) { t j = 0; j < bit; j++) { << PIs[i][j];  \" \";  dl;    receive Receive and store the number of bits (for dynamic allocation)  organize Create an array of care minterms and true minterms and get rid of the don't care minterm array Grouping things with the same number of 1's (I'm thinking about how to do this, maybe I'll create a new variable)  Proceed with t table Bundling the hamming disctance from 1 to 1 (it seems to have to remove the original one and store it in a new array) Proceed with columns 2, 3... until no Make all remaining minterms into one array and delete the existing merged array  l Finding PIs Find true minterms that only match PIs Checking that PIs also cover other true minterms Find the minimum number of transistors in the true minterm   calculate output on the day    har* arr1, char* arr2, int size) { //swap two array values  0; i < size; i++) { rr1 + i); ) = *(arr2 + i); ) = temp;    * num1, int* num2) { //swap two integers mind1; ;    ar* type1, char* type2) { //swap two minterm types type1; A; ;  haha I feel dizzy Coffee ate me up haha by the way Look what we got 2016 2017 2018 I am like this 3 weeks exam It seems to repeat in 3 cycles LOL Unless new Wouldn't it be LOL lol let's go... . new member it becomes a copy Ha ha ha j let's try... what No double pointer ?? doesn't seem like that... what's the problem        LL));  ix A :\"; ht >> A_width; ix B :\"; ht >> B_width;  int* [A_height]; 0; i < A_width; i++) A[i] = new int[A_width]; int* [B_height]; 0; i < B_width; i++) B[i] = new int[B_width];  0; i < A_height; i++)  = 0; j < A_width; j++) = (rand() % 10);   0; i < B_height; i++)  = 0; j < B_width; j++) = (rand() % 10);   trix :\" << endl; 0; i < A_height; i++)  = 0; j < A_width; j++)  A[i][j] << \"\\t\"; + 1) % A_width == 0) cout << endl;     trix :\" << endl; 0; i < B_height; i++)  = 0; j < B_width; j++)  B[i][j] << \"\\t\"; + 1) % B_width == 0)   cout << endl;     == B_width)  new int* [A_height]; = 0; i < B_width; i++) C[i] = new int[B_width]; 0;  = 0; i < A_height; i++)  t j = 0; j < B_width; j++)  = 0; (int z = 0; z < B_width; z++)  a += (A[i][z] * B[z][j]);  [j] = sum;    *B Result :\" << endl; = 0; i < A_height; i++)  t j = 0; j < B_width; j++)  << C[i][j] << \"\\t\"; (j + 1) % B_width == 0) out << endl;    = 0; i < B_width; i++)  ] C[i];  ;    can't Operate Matrix Multiplication(\" << A_ Height << \"!=\" << B_ Width << \")\";   0; i < A_width; i++)  [i];    0; i < B_width; i++)  [i];      uh what It's something that can't be done no didn't do that include stdlib is this that that and range of i not height no not width height hey Guess I'll miss it?? yap for statement scope fix it with height What is the principle? don't know I'm going to use a reserve I don't understand a thing last time really I almost vomited If I don't want it, I'm open to it lol no shit Why are 0 to 9 stamped? I don't understand Photo Bro did you draw this?? If you draw like this does it?? ㅇㅎ ok Good night.. dog gain I don't have a lot to test. ㅠㅠ Help me applied ?? then once Gotta try it.. Haha hyung but our dinon report Was it written by Yuwan? sorry +1 Ascending order by selection sort I did, but I copied the same from Google, so I still don't understand the code. I also sum I did it with a double pointer b> std; ort(int list[], int n); arr1[], int arr2[],int n);   0 = new int* [10]; = new int* [10]; 0; i < 10; i++) ] = new int[10]; 0; i < 10; i++) = new int[1]; LL)); 0; i < 10; i++)  = 0; d < 10; j++)  0[i][j] = rand() % 101;   inal Matrix\" << endl; 0; i < 10; i++)  = 0; d < 10; j++)  mat10x10[i][j] << \"\\t\"; + 1) % 10 == 0) << endl;   0; i < 10; i++)  sort(mat10x10[i], 10);  0; i < 10; i++)  0] = 0; = 0; d < 10; j++)  i][0] = matsum[i][0] + mat10x10[i][j];   << endl << \"Sort by row\" << endl; 0; i < 10; i++)  = 0; d < 10; j++)  mat10x10[i][j] << \"\\t\";  um is \" << matsum[i][0] << \"(\" << &(matsum[i][0]) << \")\"; dl;   0; i < 9; i++)  = 0; j < 9 - i; j++)  sum[j][0] > matsum[j + 1][0])  temp = NULL; = matsum[j]; um[j] = matsum[j + 1]; a[j + 1] = temp; wap(mat10x10[j], mat10x10[j + 1], 10);    << endl << \"Sort by sum\" << endl; 0; i < 10; i++)  = 0; d < 10; j++)  mat10x10[i][j] << \"\\t\";  um is \" << matsum[i][0] << \"(\" << &(matsum[i][0]) << \")\"; dl;  0; i < 10; i++) at10x10[i]; 0x10; 0; i < 1; i++) atsum[i]; a;   ort(int list[], int n)  st, temp; 0; i < n - 1; i++)   t[i]; = i + 1; j < n; j++)  n > list[j])  = list[j]; t = j;   t[i]; list[least]; ] = temp;   arr1[], int arr2[], int n)   0; i < n; i++)  1[i]; arr2[i]; temp;   roughly LOL LOL really cool I'm scared, I'm sleepy To Nae-Wan Yoo I have to ask an ignorant question Wow from 9 o'clock yesterday I slept until now It's tardiness.. rummage My brother said he had Lasik Didn't you? okay Are you okay?? b If you take a hospital diagnosis The professor who treats you sick is also wrongly I can't do 1st class honey lol wouldn't it I don't even know the queenmack code. I'm dizzy to announce lol Not enough to stay up all night All you have to do is create presentation materials. Actually, I'm starting to make it. minterm in that file Should there be an example that is not covered? I can't find it Some PI tables Photo It comes out like this ok,, ㅠㅠ          No, do you think that's good?? Even so As an example that does not cover all to write   Oh brother, come to school? under I can't announce brother chance... ? emoticon Oh that's right.. 11pm? impossible.. I'll try hard this is my voice I hear listening so much high rank lol Now that the distancing is all over Looks like a club dinner lol the east where are you I have to tell you So come to school tomorrow ??? Ohh Okaeah Not even a school library Go to a cafe or something My roommate is snoring while sleeping Is it legal to slap your nose? But if the nose bone is broken Because it hurts LOL Did you get a snack event?? I got it haha I can't seem to pay dues Oh, I can't concentrate too much haha Brother hungry??? a little how about 6 o'clock dinner Mmmmmmm emoticon That's right, how much did the meal cost? Can I send you 12,000 won? Hahahaha so good haha Get 11,000 won. Ha ha ha ha ha ha ha ha ha ha ha brother Photo Can you explain why this happens? Wow So, De Morgan's Law wrote it twice Oh, I screwed up... . It must be all night, real lol As an excuse tear off This practice assignment gag generation lol Is it really lol just about.. I'm already sleepy but Say goodbye to the night... emoticon lol when will you come hahahahahahahaha Photo I'm alone in the east haha.. Oh, it's overkill.. Photo Hyung, can you solve this 5 times?? The essential table came out strangely I'm having a brain break... oh no i got it wrong emoticon Cheetah wants to stop running... where are you eat together I'm hungry lol check Receive 6,000 won completed! Perhaps Photo Can I have a picture of question number 5,,,,? i m comfortable on the sofa Chambit Hall B1 When I woke up, it was 10 o'clock. school om?? I heard number 4 is so hard It's a joke haha lol How many times have you done i want to go home lol??? couldn't... . suffocating Closing time... lol part time job It's an evama haha  op); top);   d;   new int[100];     lease Enter Command(push, pop) :\"; mand >> integer;  d == \"push\")  ull(++(top)))  )--;    ack + top) = integer; (int i = 0; i <= top; i++)  out << *(stack + i) << endl;     command == \"pop\")  mpty(top))  rn NULL;    ack + top--) = NULL;        op)  100 ? 1 : 0;   top)  -1 ? 1 : 0;  File: 2_B_2021202071_ì´ë¯¼í.zip haha When is it under… As soon as you receive your test paper Cauchy Euler's equation is I don't remember Shubham not easy really I only got the circuit theory lol Nel Dinone class itllana I will stop It's good that the test is over. Ha ha ha when is school ??????? what It's broken, it's broken haha Oh but It's not tomorrow lol It's too hard... I want to drop out lol at giga Coding doing lol Number 1 looks so easy I'm going to do it catch Today, ZeroB big brother It's my birthday haha But this time Easier than last time... I don't need a little imagination Should I came down Convenience store from next week to Thursday tell me to do it... with Almost OK on the phone It was a conversation, but I think I passed it haha Hahaha what's going on lol Because I pay dues Is it an obvious friend? I know It's a mother's day emoticon Did you do the dinon assignment? I'm going crazy Questions available... ? Photo in number 4 output is say 0,1,2 Isn't the output only 0,1? Well then the output is what should i do Photo I roughly did this, the next step I don't know I'll take a look thank you coffee I just ordered lol Can I just go coffee only I'm going forward When drawing a computer room circuit diagram how did you draw it??? no en hexadecimal decoder OK Do you want to go to the club mt? thank you I have to say that I am going to empty. Me too hahaha Are you still listening to the lecture?? lol what's the problem me too in 4 dog having a brain injury what are you talking about there's nothing wrong #include <iostream> > g> > std;        head = NULL; }  ord(int index, char* _word); is(void);    rtWord(int index, char* _word) { = 1; e = head; the && index > currIndex) { currNode->next; +;  = new Node; = _word; 0) { ext = head; Node;   ext = currNode->next; next = newNode;  e;  ayList() {  e = head; of != NULL) { rrNode->word << \"->\"; currNode->next;    ) { e = head, * nextNode = NULL; of != NULL) { currNode->next; rNode; nextNode;     new char* [20]; 0; i < 20; i++) word[i] = new char[10];  { MD(Word/exit)>> \"; d[i]; 0; ) { sertWord(i, word[i]); splayList(); endl;  e;  (word[i],\"exit\")==0){   = 0; j < i; j++) { ricmp(word[j], word[i]) == 0) { << \"Already Exists\" << endl; .DisplayList(); << endl; = 1; k;   word[i],\"exit\") != 0) { ower(word[i - 1][strlen(word[i - 1]) - 1]) == tolower(word[i][0]) && temp == 0) { .InsertWord(i, word[i]); .DisplayList(); << endl;   (tolower(word[i - 1][strlen(word[i - 1]) - 1]) != tolower(word[i][0])) { << \"Not chained\" << endl;    0; d < 20; d++) ord[g]; ;   But there are quite a few unnecessary lines Nice If you don't know ask I'm done... what It's honey.. lol lol now ?? Brother now class ?? Okai I'll go out in time open to has exist lol Ha ha ha admit that 1 What are you doing Ha ha ha I see It's just \"Wolcles\" lol It's a computer .. Results should come out like you know I don't know How many air conditioners are there in Musinsa? As if I installed Hong Ik Pyo lol Why did you call me I'm in class lol ㅇㅋㅋ Let me know What is the school now? LOL No. 4 organic like a dog… > std;      0];  20];   ;     () { school : \"; ame;  { th : ​​\"; tuID;  ) { year : \"; r;  D() { return U_StuID; } ) { 교 : \" << U_Name << endl; times: \" << U_StuID << endl; year: \" << year << endl;     public university   riented_Programing; Logic_Circuit;   ing(); ();  ; } our() { Body Oriented Programming Credits: \"; ect_Oriented_Programing;  it() { Digital logic circuit credit: \"; ital_Logic_Circuit;  ) { Body Oriented Programming credit: \" << Object_Oriented_Programing << endl;; Digital Logic Circuit credit: \" << Digital_Logic_Circuit << endl;;    ic Computer Information Engineering   ;        ) { Name: \"; e;  { this : \"; ;  () { return Name; }     d; ; ; ];  new student info* [100];    >= 100) = \"EXIT\";  Enter mand: \"; mand;  d == \"INSERT\")  ist = new student information[index++];  command == \"FIND\")  Name >> StuID; endl; t i = 0; i <= index; i++)  (strcmp(Name,List[i]->getName())==0 )&& (strcmp(StuID,List[i]->getStuID()))==0)  ist[i]->print_1(); ist[i]->print_2();    command == \"EXIT\")  ex == 0)  k;  ex != 0) { (int i = 0; i <= index; i++)  elete[] List[i];  te[] List; k;      hehe lived about 3 minutes I'm late, so I'll just attend Holly where are you brother what are you in the library Looking forward to 5? Mmmmmmm LOL I did expect... Where are you? Anam Station? Mmmmmmmmmmmmmmm Dolgoti Station ,, I'll be there soon haha emoticon where are you Crowd of people Is the Dinon test period shortened? saw ?? Become ;; Not even re-announced I'll just edit it I know.. with their own conversation 1 hour to fill Excited already... with my brother... What do you want to eat hahahaha I'll have to think about it... morning workout... I woke up I fell asleep again Why purify!?( hour does it?? where are you bro Ha ha ha me too stomach aches in the morning I'm about to fall behind.. let's go conred that way where are you I'll pass brother call attendance ㅃㄹ this is all because of dinon If it's not Dinon, are you crazy about Dadamju? There are a lot of people Is it a dog restaurant? ㅠㅠ I got money today financial treatment 1 lesson.. last come LOL It's a variable... How are you? 3:30 PM?? It's a good night's sleep... File: Denon Final.zip let's go... yap that verilog Are you talking ah the reciprocal of ns No, the reciprocal of s Can't you think of HZ? Photo Are you doing the math like this? But 105MHZ like this I'm not coming lol Oh right lol why is it like I don't like it 32-bit is on Google. Hahahahahahahahaha We are 36 bit.. haha what time come hasbal Verilog's head is getting hot. brother 36 bits are 0000… 00 like this There are 36 right? I suddenly have a brain attack top module rca_36b From the problem of doing it as Didn't you? Come on, is it difficult? test bench is compile error keep going I can't eat out;  a ^ b; a & b;   (a, b, Cin, Sum, Cout); in; out; arry01, Carry02;  1(.a(a), .b(b), .Sum(Sum01), .Cout(Carry01)); 2(.a(Sum01), .b(Cin), .Sum(Sum), .Cout(Carry02));  Carry01 | Carry02;  Ha ha ha ha ha ha ha ha ha taught 1 do 10 yes Junhwan hyung!! TTTTTT This can be happen goop 4 times I want to throw really brother project Do you have a mindset that says no? on that google if it's the same I have a solution Was it Optional in Tools? model sim altera from to the path where the type file is located I can't play Dinon every time I goof.. LOL what's the matter it's been Photo Hahahahahahahahahahahahahaha me on the test bench I just give up like a dog I'll see you again tomorrow Shall we go to school early home now lol LOL I'll go have breakfast reading room won't you open it? brother today Are you going to stay up all night? I'm thinking that too if you two are together I can leak... collective intelligence georgia Actually, I was going to eat breakfast. Eat and sleep lol haha.. I knew it would be like this and went into a deep sleep brother open reading?? File: Digital_2019.PDF damn 4 exams on Monday hehe lol That's right... what's this Why is the bottom right of a = 0 overlapped Hmm.. bro sheck end ?? I'm part time job.. on the way home?? lol i didn't see in class ? oh oh oh oh Wow ha class is annoying... In theory, yes haha Are you talking about BST?? aaaa void insert(int value) { ode = new Node; Node = root; = NULL; alue = value; = NULL) { newNode;   currNode) { currNode->value > value) { emp = currNode; urrNode = currNode->left;  if (currNode->value < value) { emp = currNode; urrNode = currNode->right;   p->value > value) { ->left = newNode;  (temp->value < value) { ->right = newNode;    insert like this try No, even the Taeho project end of the day Monthly claim lol So... . I want to be tutored 4 times can't in the end sssss cry tomorrow we They say there is no gaekf class I've been mailing Even if it doesn't come I said yes yep there is I can't stand this.. during holiday symptoms again why price rise? It was 100,000 won. now too thick horse racing  I'm tired... Memorial Day last time Because the event was big Oh I should buy it went in Only 1000 won for 5 kg no discount So I can't I will pay lag slightly It takes haha I was a little scared Are you going to study at school? LOL when is school Hahahahahahahahahahahahahaha I think you are sleeping I get drunk too lol Will it come out difficult..? emoticon brother brother Hot spas available... ???? ㅠㅠ haha current value (??? Wait a minute lol ham habulgen Mesh I guess I'll have to write an interpretation. so good lol that's probably Is the node analysis method I would have hit?? Just in question V1, V2 I asked LOL Voltage takes on R1 no electric current to R3,R2,R1 flowing current I know everything circuit theory outside of hearing hehe so V1 is to base node about It's the voltage you got The reference node is probably bottom row voltage as reference node would have caught V1-Vreference to find I set the reference voltage to 0. The current flowing through R1 is V1/R1 The current flowing through R2 is P1-F/R Like this confusion uh maybe will be right ㅇㅇㅇ Right  Happy birthday..! emoticon hahahahahahahaha hehe I don't like to study hahahahaha 71 I'm talking goof I'm screwed too ^*^ bro, this is the experimental value what came out 1 parking .. I calculated it and Didn't come out the same Yep ah I got it right thank you I want to eat Brother, don't you eat? When you go, even if you go It's okay to order a meal Photo Unknown 2t..? Is it too far Subway? i'm all right no but If it's a dinner date Aren't you having dinner?? yeah? lol ok i'm out It'll be out in about 5 minutes Photo this is Can't find it?? I don't think so is that okay? Laplace As if I realized a little lol LOL I'm going to die.. lol ah jin tamseol I don't want to Netflix Bonnie this is yas what 20 points It's not.. LOL Seduce hot-bodied girls and come I went to Jeju Island how was the philippines is the hope It's a family trip where to drink lol It's a bit narrow, but ??? I'm fine.. Ha ha ha ha ha ok when will you come I put off my part-time job due to ignorance how about sunday lol Gunba... Then guaranteed to the landlord Monday or Wednesday I'm on Thursday too no matter what LOL not even a scroll oops Hahahahahahahahahahahaha empty I'm in a meeting right now can't you come? ㅇㅇㅋ I know no but I go out every day?? I also went to Mr. Mental Let's have a drink and relax... . when are wednesday okay The selection team... I have to lift my load hahaha I also go according to the selection Eva Let's go to the squad... The squad is fun give up on this..? I signed up for a new gym. It's a tool emoticon it's possible OK hahahaha no OK why orbit .. LOL Confirm.. Fortunately do not carry the load I see what did you say LOL I might be quick to notice... i can't come no... You shouldn't drink for a while Hahahahahahahahahahahaha.. If you leave that Are you giving me money?? the web He's a job thug sitpal dog ms.. What is Megastudy these days? I think there is also a coding academy. Hyung, do you have time this week too? You couldn't get it open.. Are you late for class? I won't ask you to leave the car in class lol Let's go with ruthless judgment emoticon open source Let's go... emoticon ??? Ha ha ha ha ha ha ha ha ha looks delicious sifal strap I can't find it anywhere This is overtraining; lol ah the lecture I just heard Same thing again emoticon school I'm sorry then computer room Why are you going to write that's a lot to write It's too much lol I turned off my computer room hahaha Hyung just Professor, can I send it to Naver mail?? Okai Photo Really like pine nuts lol the dinon project Long ago    what can i get?   Go?    https://arvo-official.com/boardPost/121095/15 What did I find on the blog?? https://dacon.io/codeshare/4576?page&dtype&ptype need It's a semester with task ignorance I'm coming in... why are you so diligent damn I ate spicy food in the morning I feel so bad Looks like I'll be back on the bench With 50 kg.. heh not gaining weight Motivation is the best... Bench at 95 kg It feels like a threat to life It's comfortable... brother what is the name of the app?? Ohh.. laid out I need to chat lol I've heard it all haha.. Are you done today? did it quickly, How about a sunset party fun?? lol convenience store bitch.. It's education Being educated and being bullied report?? I saw... peruse tonight coarsely on the way home?? LOL I'm having a hard time too... . Go to karaoke, don't go Welcome I... where are you leeminhyung11@gmail.com  Please analyze the data set and let me know again.    Would you like to inform the landlord? hahahaha originally Like reading quickly and giving rough feedback,, Photo he came... lol It was wild.. not easy Entering the airwaves? It's kind of precious... .. what song is it ah Request for a sunset performance? I know you're asking for food. I wish… ! LOL Are you going solo? Let's go to Kwangwoon University Nerd Connection. hehe If time goes slowly Less than 3 weeks already 1 day 1 good night good dream to do central nervous system Let's go paralyzed... lol no last week Cx God, not God Hahahahahahahahahahahahahahahahaha It's a joke. Assembly is difficult Degu is also pretty... . lol I've done it at this time people at the gym a lot LOL Hellchelin available I went in the 5th I think it was 40 It's Changryeol haha Nope, starting with the medicine take it but the head may fall... Quebecera Ha ha ha ha... ? no, if it's black could be dangerous, Hahahahahahahahahahahaha 1st class tomorrow how are you going With alarm ignorance fit.. I might feel sorry for the room next door https://www.dinolabs.ai/m/317 draw?? But last Saturday The person who gave up is still They say there is no answer lol where are you sitting i guess i won't Let's start the computer room dead emoticon almost lost I have a lot to do, these guys Until today Isn't it submission? Hahahaha 12 hours is enough Start LOL no Itaewon is why start fall out It was so damn good after listening Reflect and 3 cheeks Hahahahahahahahahahahahahahahahahahahahahahahahahahahahahaha anivata dancing nice man I have to go to Zico's festival fuck Proud blah blah blah no Dongguk S Why are we If you do that code I'm not doing well I think I fixed a few. Hahahahahahahahahahahaha Nope?? ok I'll check it out what rca z can't be That's not me but #(step-2) Because I don't know what this is cancer lol difficult difficult I lost my original mind Let's start the discussion... LOL let's go... What did you do... It took me over a day Eh?? Sprout to the subway? Line 1I Even after 12 o'clock It Dundee holly shhh I was almost late where are you It's dizzy when it's delayed... come fast let's go Eh Degu??? Receive 8,500 won completed! is the subject. (Done in 3 minutes) Hahaha I forgot I almost lost 8500 won.. No, but why is it closed? Is it wrong Holly Is that a disability protest? That's how it goes to line 1 now Direct payment Replying to @Ashley cheetah running Start I'm jealous that it's open all night I have to register for 24 hours. Hahahaha Kwangwoon University Park Hyo-shin happy birthday to me... I will receive it thank you haha is world class coding something feeling full of talent If you've done all the editing I mean you're done lol lol straight hat Even if the guns are pushed you won't.. persimmon? If someone gives you 100 million right at daiso buy barican on a solid basis make me Mite just something to eat Thank you for giving.. Oh I need something 1st Project Completed Start Hahahahahahahahahahahahahahahahahahahahahahahahahahahahahahahahahahahahahahaha under The 2nd festival school additional tuition fee Used when loading filesnumbers I have to read where did you go There is no class on Monday, so come to school? i can phew just I almost got it wrong It was a dull half but before we start I want to finish degu So when are you performing? If you pull a little more aggro I have to go to lost stars But if it's Sinchon I can't go to Sinchon, let's start pretending to be a postman Bonjour.. OK go now? wind up lol premature ejaculation on I don't even know what to say emoticon ㅇㅇㅋ ㅜ What's wrong with... Let's start with Macbook. 3 and a half hours tardy what do you think about it Did you cross the line a bit too much? at 12 o'clock hahahahahahahahahaha don't go Decide quickly... going lol autumn mosquitoes Junna is strong... on monday when is the time?? Let's have a meeting with Seungho. ㅇㅋㅇㅋ Mr. Seungho, please email me i will send Sleep now and wake up School fever is burning hahaha Mmmmmmm I didn't do anything wrong today lol no, right next week It's a test I need to start... … … No, No Mr. Seungho's engineering history Distinction crazy.. I know Will you reply in the morning Mmmmmmm There are so many homework assignments every week. lol I can't stand exercise really strong no open submission Until Wednesday lol Start what is it lol 380 Anyway, let's go after degu tomorrow Is it time?? emoticon Where are you? File: PPT Templates (Navy).pptx   http://www-riss-kr.libproxy.kw.ac.kr/search/detail/DetailView.do?p_mat_type=be54d9b8bc7cdb09&control_no=83e0d83e525ab72affe0bdc3ef48d419 https://scienceon.kisti.re.kr/commons/util/originalView.do?cn=JAKO201618139712757&oCn=JAKO201618139712757&dbt=JAKO&journal=NJOU00548795 first morphological analysis machine learning Communication skills according to the second personality type. Photo Photo Photo Photo Photo https://www-dbpia-co-kr.libproxy.kw.ac.kr/search/topSearch?query=%ED%95%9C%EA%B5%AD%EC%96%B4%20%ED%98%95%ED%83%9C%EC%86%8C%20%EB%B6%84%EC%84%9D&language=ko_KR&hasTopBanner=true# https://www-dbpia-co-kr.libproxy.kw.ac.kr/journal/articleDetail?nodeId=NODE07017613 Photo Ohh okay Seungho is awesome.... Was it half past one? lol once i Nosan was assassinated by the side of the Lord I have to send... I'll try quickly thereon Photo Does it matter if I fix this?? once wild crust I'll change it by the way Summary Flowchart Is it necessary? Didn't Seungho hyung say something earlier?? Did you finish the computer room?? But in our summary Can't we use what we've done in the meantime? The overall flow was written earlier But I think I told you not to write anything. There is nothing to write in the summary,,, look at it once the thesis [1] Moving it later is the reference part Are you talking I think it's a house brother's advice I need I can't concentrate... What do you think PPT energy  do but just similar mbti analysis program Doesn't it matter? Oh, it's like text@ is there any more https://apkpure.com/%EC%B9%B4%ED%86%A1%EB%B6%84%EC%84%9D%EA%B8%B0-%EC%B9%B4%EC%B9%B4%EC%98%A4%ED%86%A1%EC%9D%84-%EB%B6%84%EC%84%9D%ED%95%B4-%EB%93%9C%EB%A6%BD%EB%8B%88%EB%8B%A4-%EC%98%A4%ED%94%88%EC%B1%84%ED%8C%85/com.forest.kakao OK Haven't bought coffee yet librarian Huh It's in front of coffee only File: Open Source_Presentation Material (3rd complete version).pptx File: Open Source_Presentation Material (3rd complete version).pptx File: 2013.pdf File: 2014.pdf File: 2016.pdf File: 2017.pdf File: Digital Logic Circuit 2_Midterm Exam_2018.pdf File: Digital Logic Circuit 2_Midterm Exam_2019.pdf File: open source_presentation material (final).pptx File: Open Source Interim Presentation & Presentation.zip Is it steamed..? lol I almost forgot haha admit it drowsiness pours I didn't even hear it, You are eligible for a limit increase. (Complete after account opening in 3 minutes) haha thanks let's go bravely It's not easy to get out... Solved from number 6 My jaw is blocked haha Not from number 6, but from year 21 It seems like an easy problem am i going crazy are you solving?? thank you ah if you make it work it works I have to start How many years have you been solving? can do but structurally I think it will come out in 1819 solving from there It's because I couldn't solve 21 lol sleep well tomorrow I'll work hard.. It's too hard because it's morning class survived no everyone PPT It's scientific lol Let's get to class early lol to the final announcement I will reflect it let's go This is during the tpd logic gate delay at number 5. Is it really long? Why did you choose the bigger one instead of combining them? so It does not add p q r delay. Why is the logic gate with the longest delay tpd? I don't remember very well... Oh draw? Then tpd = 2.5+4+3.5 Is it Maybe 5 times and 8 times is it possible,,,, frequency max Are you looking for Ah tpd?? As if right emoticon but at number 8 Are you using 500Mhz? send ah ok understood thank you It doesn't seem like anything else I solved all but a few problems. Photo Is this state diagram correct?? help fsm god what getting momentum Start Ohh OK thank you i'm still hungry still hungry It's bullshit and I'm full What are you eating Let's take a taxi to Wangsimni Ha ha ha ha ha ha ha ha ha ha why tomorrow It's like the last exam Have a good night Photo Jun-sik brother is this the answer I didn't see... ㅠ but the first one wouldn't it fit 15ns?? Me but ska ends at 8 o'clock Do you think you should eat it then? in front of the station OK open Can't get past Chapter 9 Ha ha ha ha me too.. emoticon ……?? why is this funny... blockchain what is cocaine Hahahahahahahahahahahahahaha I'm afraid Server crashes all of a sudden. My older brother, Han Woong Can we eat together???? now it's a mixed grass Rice Mukjaeseo together it's okay I'll be there by 8:10 emoticon where are you i'm coming now There's a sofa there. I'll go. Start nuclear sleep Kwangwoon University Hyoshin Park let's go Hahahahahahahahahahahaha do you miss I don't have a single favorite corner... . Lecture review is brilliant I don't want to do it, Isan Junna, just LOL Itaewon Club x let's start lol I'm curious... . I'm crazy,,,, creepy... What is the angle of perception?? come quickly   what is colab Is it like jupyter notebook? LOL but we 40 minutes I did go back colab takes less time It's a last resort. Proceed? if no result I'm sorry I didn't give you points Is not it Korean to English to merge I need to code but this too It seems to be doing well I think you can cut and paste it. just slow wednesday It's okay to go... hahahahaha com room?? really like a dog what's the problem in that always sentence Always on the condition of entering the door data count entered ?? Well,, did you solve it?? send me ns I'll see you emoticon You changed the module name wr_en == rd_en == 1'b0 this Can I not share it?? LOL what is tanko I guess everything else fits?? Representative restaurant in Wangsimni I can't stand the Nutella ice cream... . 3900 by the way It's an improvement lol liCense to learn about possible attributes. view descriptions of existing attributes. information, visit: https://go.microsoft.com/fwlink/?linkid=830387 0.2.0\", ons\": [  e\": \"(gdb) Launch\", e\": \"cppdbg\", uest\": \"launch\", gram\": \"/home/peter/DS_project2_draft/DS_Project_2_2022_2/run\", s\": [], pAtEntry\": false, \": \"/home/peter/DS_project2_draft/DS_Project_2_2022_2\", ironment\": [], ernalConsole\": false, ode\": \"gdb\", upCommands\": [ { \"description\": \"Enable pretty-printing for gdb\", \"text\": \"-enable-pretty-printing\", \"ignoreFailures\": true }     Are you talking about analysis? ㅇㅇㅋ Wait a minute muchin Not yet? i see vscode Photo Photo Photo Photo It's just like this... Learning from the original blog Should precision or something like that come out? moxibustion to 0.0 no no what is it....... no what did you change Aha.... accuracy dog is high ok hey should I post it? uploaded are you up?? Seungho hyung... Isn't it just not translated in the first place?? haha emoticon Discrete math today I was late bro Because I was late for the zoom class It's too bad... what's this I didn't know either I asked my assistant They say you can erase it ok Because children will become parents anyway the child previously remember Like I put it in I don't remember very well... that newnode over there I found children if not by making a declaration put it there or updatefrequency OK Didn't you come to class?? please don't ask me Just take a QR I'm in attendance wow... no no geun Graph terminology used for the third project I'm done oh what... . It's full of romance Kwangwoon University Conan Gray Let's go good around 12 o'clock?? in the words you hear There is a saying that it is over in 5 minutes in the computer room. let's go emoticon See you now... . I'll punch you in the head I had to reply and forgot ,, sav file, but can you open it? But what is I don't know if it's stored You should read it once. OK Ha ha ha ha I also saw you last night He said he held it... help me there are people here gotta start... what It's a cool feeling While drinking at home I'll let you listen emoticon Ha ha ha ha ha ha ha no Professor Junhwan Lee it's us lol I know i'm on ipad Replying to @Alexander Hahahahahahahahahahahahahahaha Also G-Dragon... with academic why didn't you come no no?? by chance I'm hurt Okai get in touch But the computer sucks no this time multiplier Was it just me who was having a hard time..? get up now Mmmmmmm I'll go to the library 7 photos\n"
          ]
        }
      ]
    },
    {
      "cell_type": "code",
      "execution_count": null,
      "metadata": {
        "id": "Y-DVbsuxSJAN",
        "colab": {
          "base_uri": "https://localhost:8080/"
        },
        "outputId": "d31e7771-7b1e-45dd-ebe9-d8c1233d027b"
      },
      "outputs": [
        {
          "output_type": "stream",
          "name": "stdout",
          "text": [
            "(41814, 2) (13725, 1)\n"
          ]
        },
        {
          "output_type": "execute_result",
          "data": {
            "text/plain": [
              "                                               posts  type\n",
              "0                                              posts  type\n",
              "1  know intj tool use interaction people excuse a...  INTJ\n",
              "2  rap music ehh opp yeah know valid well know fa...  INTJ\n",
              "3  preferably p hd low except wew lad video p min...  INTJ\n",
              "4  drink like wish could drink red wine give head...  INTJ"
            ],
            "text/html": [
              "\n",
              "  <div id=\"df-9e2f9ad4-7f54-4aa1-9708-f9cae5419026\">\n",
              "    <div class=\"colab-df-container\">\n",
              "      <div>\n",
              "<style scoped>\n",
              "    .dataframe tbody tr th:only-of-type {\n",
              "        vertical-align: middle;\n",
              "    }\n",
              "\n",
              "    .dataframe tbody tr th {\n",
              "        vertical-align: top;\n",
              "    }\n",
              "\n",
              "    .dataframe thead th {\n",
              "        text-align: right;\n",
              "    }\n",
              "</style>\n",
              "<table border=\"1\" class=\"dataframe\">\n",
              "  <thead>\n",
              "    <tr style=\"text-align: right;\">\n",
              "      <th></th>\n",
              "      <th>posts</th>\n",
              "      <th>type</th>\n",
              "    </tr>\n",
              "  </thead>\n",
              "  <tbody>\n",
              "    <tr>\n",
              "      <th>0</th>\n",
              "      <td>posts</td>\n",
              "      <td>type</td>\n",
              "    </tr>\n",
              "    <tr>\n",
              "      <th>1</th>\n",
              "      <td>know intj tool use interaction people excuse a...</td>\n",
              "      <td>INTJ</td>\n",
              "    </tr>\n",
              "    <tr>\n",
              "      <th>2</th>\n",
              "      <td>rap music ehh opp yeah know valid well know fa...</td>\n",
              "      <td>INTJ</td>\n",
              "    </tr>\n",
              "    <tr>\n",
              "      <th>3</th>\n",
              "      <td>preferably p hd low except wew lad video p min...</td>\n",
              "      <td>INTJ</td>\n",
              "    </tr>\n",
              "    <tr>\n",
              "      <th>4</th>\n",
              "      <td>drink like wish could drink red wine give head...</td>\n",
              "      <td>INTJ</td>\n",
              "    </tr>\n",
              "  </tbody>\n",
              "</table>\n",
              "</div>\n",
              "      <button class=\"colab-df-convert\" onclick=\"convertToInteractive('df-9e2f9ad4-7f54-4aa1-9708-f9cae5419026')\"\n",
              "              title=\"Convert this dataframe to an interactive table.\"\n",
              "              style=\"display:none;\">\n",
              "        \n",
              "  <svg xmlns=\"http://www.w3.org/2000/svg\" height=\"24px\"viewBox=\"0 0 24 24\"\n",
              "       width=\"24px\">\n",
              "    <path d=\"M0 0h24v24H0V0z\" fill=\"none\"/>\n",
              "    <path d=\"M18.56 5.44l.94 2.06.94-2.06 2.06-.94-2.06-.94-.94-2.06-.94 2.06-2.06.94zm-11 1L8.5 8.5l.94-2.06 2.06-.94-2.06-.94L8.5 2.5l-.94 2.06-2.06.94zm10 10l.94 2.06.94-2.06 2.06-.94-2.06-.94-.94-2.06-.94 2.06-2.06.94z\"/><path d=\"M17.41 7.96l-1.37-1.37c-.4-.4-.92-.59-1.43-.59-.52 0-1.04.2-1.43.59L10.3 9.45l-7.72 7.72c-.78.78-.78 2.05 0 2.83L4 21.41c.39.39.9.59 1.41.59.51 0 1.02-.2 1.41-.59l7.78-7.78 2.81-2.81c.8-.78.8-2.07 0-2.86zM5.41 20L4 18.59l7.72-7.72 1.47 1.35L5.41 20z\"/>\n",
              "  </svg>\n",
              "      </button>\n",
              "      \n",
              "  <style>\n",
              "    .colab-df-container {\n",
              "      display:flex;\n",
              "      flex-wrap:wrap;\n",
              "      gap: 12px;\n",
              "    }\n",
              "\n",
              "    .colab-df-convert {\n",
              "      background-color: #E8F0FE;\n",
              "      border: none;\n",
              "      border-radius: 50%;\n",
              "      cursor: pointer;\n",
              "      display: none;\n",
              "      fill: #1967D2;\n",
              "      height: 32px;\n",
              "      padding: 0 0 0 0;\n",
              "      width: 32px;\n",
              "    }\n",
              "\n",
              "    .colab-df-convert:hover {\n",
              "      background-color: #E2EBFA;\n",
              "      box-shadow: 0px 1px 2px rgba(60, 64, 67, 0.3), 0px 1px 3px 1px rgba(60, 64, 67, 0.15);\n",
              "      fill: #174EA6;\n",
              "    }\n",
              "\n",
              "    [theme=dark] .colab-df-convert {\n",
              "      background-color: #3B4455;\n",
              "      fill: #D2E3FC;\n",
              "    }\n",
              "\n",
              "    [theme=dark] .colab-df-convert:hover {\n",
              "      background-color: #434B5C;\n",
              "      box-shadow: 0px 1px 3px 1px rgba(0, 0, 0, 0.15);\n",
              "      filter: drop-shadow(0px 1px 2px rgba(0, 0, 0, 0.3));\n",
              "      fill: #FFFFFF;\n",
              "    }\n",
              "  </style>\n",
              "\n",
              "      <script>\n",
              "        const buttonEl =\n",
              "          document.querySelector('#df-9e2f9ad4-7f54-4aa1-9708-f9cae5419026 button.colab-df-convert');\n",
              "        buttonEl.style.display =\n",
              "          google.colab.kernel.accessAllowed ? 'block' : 'none';\n",
              "\n",
              "        async function convertToInteractive(key) {\n",
              "          const element = document.querySelector('#df-9e2f9ad4-7f54-4aa1-9708-f9cae5419026');\n",
              "          const dataTable =\n",
              "            await google.colab.kernel.invokeFunction('convertToInteractive',\n",
              "                                                     [key], {});\n",
              "          if (!dataTable) return;\n",
              "\n",
              "          const docLinkHtml = 'Like what you see? Visit the ' +\n",
              "            '<a target=\"_blank\" href=https://colab.research.google.com/notebooks/data_table.ipynb>data table notebook</a>'\n",
              "            + ' to learn more about interactive tables.';\n",
              "          element.innerHTML = '';\n",
              "          dataTable['output_type'] = 'display_data';\n",
              "          await google.colab.output.renderOutput(dataTable, element);\n",
              "          const docLink = document.createElement('div');\n",
              "          docLink.innerHTML = docLinkHtml;\n",
              "          element.appendChild(docLink);\n",
              "        }\n",
              "      </script>\n",
              "    </div>\n",
              "  </div>\n",
              "  "
            ]
          },
          "metadata": {},
          "execution_count": 3
        }
      ],
      "source": [
        "#MBTI 분류 알고리즘(오픈소스)\n",
        "import pandas as pd\n",
        "from sklearn.model_selection import train_test_split\n",
        "from sklearn.ensemble import RandomForestClassifier\n",
        "from sklearn.feature_extraction.text import TfidfVectorizer\n",
        "from sklearn.svm import LinearSVC\n",
        "from sklearn.pipeline import Pipeline\n",
        "from sklearn import metrics\n",
        "from sklearn.metrics import classification_report, f1_score, roc_curve\n",
        "import pickle\n",
        "import os.path\n",
        "import plotly.offline as pyo\n",
        "import plotly.graph_objs as go\n",
        "import spacy\n",
        "from nltk.stem.snowball import SnowballStemmer\n",
        "from sklearn.feature_extraction.text import CountVectorizer\n",
        "\n",
        "from sklearn.metrics import precision_recall_curve # PR curve\n",
        "\n",
        "data_dir='./drive/MyDrive/OpenSource/dataset/'\n",
        "\n",
        "train = pd.read_csv(os.path.join(data_dir,'MBTI_train.csv'), encoding='ISO 8859-1', header=None, names=['posts', 'type'])\n",
        "test = pd.read_csv(os.path.join(data_dir, 'MBTI_test.csv'), encoding='ISO 8859-1', header=None, names=['posts'])\n",
        "\n",
        "print(train.shape, test.shape) # 74357, 9337\n",
        "train.head()"
      ]
    },
    {
      "cell_type": "code",
      "source": [
        "test.head()\n",
        "\n",
        "recreate_model = False\n",
        "\n",
        "filename = 'mbti_svm_v2.sav'\n",
        "\n",
        "if not os.path.isfile(filename):\n",
        "    recreate_model=True\n",
        "    \n",
        "X=train['posts']\n",
        "y=train['type']\n",
        "\n",
        "X_train,X_test,y_train,y_test = train_test_split(X, y, test_size=0.2, random_state=42)\n",
        "\n",
        "# 모델 재생성 여부 확인\n",
        "if recreate_model:\n",
        "    \n",
        "    # vectorizer 정의 및 fit_transform\n",
        "    vectorizer = TfidfVectorizer()\n",
        "    X_train_tfidf = vectorizer.fit_transform(X_train)\n",
        "    \n",
        "    # 훈련\n",
        "    clf = LinearSVC()\n",
        "    clf.fit(X_train_tfidf, y_train)\n",
        "    \n",
        "    # vectorizer 및 모델 파이프라인\n",
        "    text_clf = Pipeline([('tfidf',TfidfVectorizer()),('clf',LinearSVC())])\n",
        "    text_clf.fit(X_train, y_train)\n",
        "    \n",
        "    # 모델 저장\n",
        "    pickle.dump(text_clf, open(filename, 'wb'))\n",
        "\n",
        "# 모델 재생성하지 않으면 기존 저장된 모델 불러오기\n",
        "else:\n",
        "    # loading the model from disk\n",
        "    text_clf = pickle.load(open(filename, 'rb'))"
      ],
      "metadata": {
        "id": "25OLzVYJY4Ax"
      },
      "execution_count": null,
      "outputs": []
    },
    {
      "cell_type": "code",
      "source": [
        "#저장된 결과를 확인\n",
        "predictions = text_clf.predict(X_test)\n",
        "\n",
        "print(classification_report(y_test, predictions))"
      ],
      "metadata": {
        "colab": {
          "base_uri": "https://localhost:8080/"
        },
        "id": "pFPbP_BrPYg9",
        "outputId": "ff789119-a283-4e6e-c16e-3b93da3a783a"
      },
      "execution_count": null,
      "outputs": [
        {
          "output_type": "stream",
          "name": "stdout",
          "text": [
            "              precision    recall  f1-score   support\n",
            "\n",
            "        ENFJ       0.85      0.70      0.77       174\n",
            "        ENFP       0.87      0.83      0.85       738\n",
            "        ENTJ       0.90      0.82      0.86       375\n",
            "        ENTP       0.84      0.86      0.85      1176\n",
            "        ESFJ       0.75      0.57      0.65        21\n",
            "        ESFP       0.93      0.56      0.70        48\n",
            "        ESTJ       0.91      0.79      0.85        52\n",
            "        ESTP       0.92      0.92      0.92       232\n",
            "        INFJ       0.81      0.84      0.83      1177\n",
            "        INFP       0.83      0.87      0.85      1218\n",
            "        INTJ       0.79      0.84      0.81      1249\n",
            "        INTP       0.80      0.82      0.81      1189\n",
            "        ISFJ       0.82      0.57      0.68        87\n",
            "        ISFP       0.85      0.68      0.76       103\n",
            "        ISTJ       0.86      0.75      0.80       136\n",
            "        ISTP       0.92      0.84      0.88       388\n",
            "\n",
            "    accuracy                           0.83      8363\n",
            "   macro avg       0.85      0.77      0.80      8363\n",
            "weighted avg       0.83      0.83      0.83      8363\n",
            "\n"
          ]
        }
      ]
    },
    {
      "cell_type": "code",
      "source": [
        "# 평가지표 기본 자료 : Confusion_matrix\n",
        "confusion_matrix = metrics.confusion_matrix(y_test, predictions)\n",
        "print(confusion_matrix)\n",
        "\n",
        "# 평가지표 : Accuracy\n",
        "score = round(metrics.accuracy_score(y_test, predictions) , 10)\n",
        "print(score)\n",
        "# 평가지표 : F1 Score\n",
        "score = round(metrics.f1_score(y_test, predictions,average='weighted'),10)\n",
        "print(score)\n",
        "# 평가지표 : Recall Score\n",
        "score = round(metrics.recall_score(y_test, predictions,average='weighted'),10)\n",
        "print(score)"
      ],
      "metadata": {
        "colab": {
          "base_uri": "https://localhost:8080/"
        },
        "id": "3mBOIUoUO4zN",
        "outputId": "2c3617fb-f5ba-4594-b8d5-ebf36cfec014"
      },
      "execution_count": null,
      "outputs": [
        {
          "output_type": "stream",
          "name": "stdout",
          "text": [
            "[[ 122    3    3    6    2    0    4    0   17    8    5    2    1    0\n",
            "     1    0]\n",
            " [   2  616    4   12    1    0    0    0   31   40   22    8    0    0\n",
            "     2    0]\n",
            " [   0    2  308   10    0    0    0    0    9    5   22   17    0    1\n",
            "     0    1]\n",
            " [   0   12    3 1007    0    0    0    3   26   22   39   50    1    2\n",
            "     3    8]\n",
            " [   1    1    0    1   12    0    0    0    1    3    2    0    0    0\n",
            "     0    0]\n",
            " [   0    2    1    6    0   27    0    1    0    4    4    1    0    1\n",
            "     0    1]\n",
            " [   0    0    1    2    0    0   41    0    2    1    1    3    0    0\n",
            "     1    0]\n",
            " [   0    0    2    5    0    0    0  213    2    4    1    4    0    0\n",
            "     0    1]\n",
            " [   7   16    2   31    0    0    0    1  989   66   38   20    2    2\n",
            "     1    2]\n",
            " [   1   30    2   14    0    0    0    1   51 1062   21   29    2    3\n",
            "     1    1]\n",
            " [   3   16    6   25    1    0    0    7   36   16 1044   88    0    2\n",
            "     2    3]\n",
            " [   5    2    8   49    0    0    0    3   27   25   86  973    3    1\n",
            "     1    6]\n",
            " [   1    2    0    3    0    0    0    0    8   11    3    6   50    0\n",
            "     2    1]\n",
            " [   0    3    0    5    0    2    0    0    5   10    4    1    1   70\n",
            "     1    1]\n",
            " [   1    1    1    5    0    0    0    0   10    3    8    3    0    0\n",
            "   102    2]\n",
            " [   1    1    2   12    0    0    0    3    3    7   19   13    1    0\n",
            "     2  324]]\n",
            "0.8322372354\n",
            "0.8317902213\n",
            "0.8322372354\n"
          ]
        }
      ]
    },
    {
      "cell_type": "code",
      "source": [
        "# 평가지표 : Accuracy\n",
        "print(f\"Overall accuracy of the model: {round(metrics.accuracy_score(y_test, predictions),10)}\")"
      ],
      "metadata": {
        "colab": {
          "base_uri": "https://localhost:8080/"
        },
        "id": "nIspZwazXSEM",
        "outputId": "ef5624b1-08c3-42c1-cedb-6f5a7c5c38af"
      },
      "execution_count": null,
      "outputs": [
        {
          "output_type": "stream",
          "name": "stdout",
          "text": [
            "Overall accuracy of the model: 0.8322372354\n"
          ]
        }
      ]
    },
    {
      "cell_type": "code",
      "source": [
        "import numpy as np\n",
        "import pandas as pd\n",
        "import matplotlib.pyplot as plt\n",
        "import seaborn as sns\n",
        "from sklearn.datasets import make_classification\n",
        "from sklearn.ensemble import RandomForestClassifier\n",
        "from sklearn.model_selection import train_test_split\n",
        "from sklearn.metrics import roc_curve\n",
        "\n",
        "def plot_roc_curve(fper, tper):\n",
        "  plt.plot(fper, tper, color='red', label='ROC')\n",
        "  plt.plot([0,1], [0,1], color='green', linestyle='--')\n",
        "  plt.xlabel('False Positive Rate')\n",
        "  plt.ylabel('True Positive Rate')\n",
        "  plt.title('Receiver Operating Characteristic Curve')\n",
        "  plt.legend()\n",
        "  plt.show()\n",
        "\n",
        "model = RandomForestClassifier()\n",
        "model.fit(X_train, y_train)\n",
        "prob = model.predict_proba(X_test)\n",
        "prob = probs[:,1]\n",
        "fper, tper, thresholds = roc_curve(y_test, prob)\n",
        "\n"
      ],
      "metadata": {
        "colab": {
          "base_uri": "https://localhost:8080/"
        },
        "id": "9KWL6dV6mfne",
        "outputId": "8f16fcc2-c1ab-48fc-d6ac-505a7304b254"
      },
      "execution_count": null,
      "outputs": [
        {
          "output_type": "error",
          "ename": "ValueError",
          "evalue": "ignored",
          "traceback": [
            "\u001b[0;31m---------------------------------------------------------------------------\u001b[0m",
            "\u001b[0;31mValueError\u001b[0m                                Traceback (most recent call last)",
            "\u001b[0;32m<ipython-input-8-28cf83e2b509>\u001b[0m in \u001b[0;36m<module>\u001b[0;34m\u001b[0m\n\u001b[1;32m     18\u001b[0m \u001b[0;34m\u001b[0m\u001b[0m\n\u001b[1;32m     19\u001b[0m \u001b[0mmodel\u001b[0m \u001b[0;34m=\u001b[0m \u001b[0mRandomForestClassifier\u001b[0m\u001b[0;34m(\u001b[0m\u001b[0;34m)\u001b[0m\u001b[0;34m\u001b[0m\u001b[0;34m\u001b[0m\u001b[0m\n\u001b[0;32m---> 20\u001b[0;31m \u001b[0mmodel\u001b[0m\u001b[0;34m.\u001b[0m\u001b[0mfit\u001b[0m\u001b[0;34m(\u001b[0m\u001b[0mX_train\u001b[0m\u001b[0;34m,\u001b[0m \u001b[0my_train\u001b[0m\u001b[0;34m)\u001b[0m\u001b[0;34m\u001b[0m\u001b[0;34m\u001b[0m\u001b[0m\n\u001b[0m\u001b[1;32m     21\u001b[0m \u001b[0mprob\u001b[0m \u001b[0;34m=\u001b[0m \u001b[0mmodel\u001b[0m\u001b[0;34m.\u001b[0m\u001b[0mpredict_proba\u001b[0m\u001b[0;34m(\u001b[0m\u001b[0mX_test\u001b[0m\u001b[0;34m)\u001b[0m\u001b[0;34m\u001b[0m\u001b[0;34m\u001b[0m\u001b[0m\n\u001b[1;32m     22\u001b[0m \u001b[0mprob\u001b[0m \u001b[0;34m=\u001b[0m \u001b[0mprobs\u001b[0m\u001b[0;34m[\u001b[0m\u001b[0;34m:\u001b[0m\u001b[0;34m,\u001b[0m\u001b[0;36m1\u001b[0m\u001b[0;34m]\u001b[0m\u001b[0;34m\u001b[0m\u001b[0;34m\u001b[0m\u001b[0m\n",
            "\u001b[0;32m/usr/local/lib/python3.7/dist-packages/sklearn/ensemble/_forest.py\u001b[0m in \u001b[0;36mfit\u001b[0;34m(self, X, y, sample_weight)\u001b[0m\n\u001b[1;32m    326\u001b[0m             \u001b[0;32mraise\u001b[0m \u001b[0mValueError\u001b[0m\u001b[0;34m(\u001b[0m\u001b[0;34m\"sparse multilabel-indicator for y is not supported.\"\u001b[0m\u001b[0;34m)\u001b[0m\u001b[0;34m\u001b[0m\u001b[0;34m\u001b[0m\u001b[0m\n\u001b[1;32m    327\u001b[0m         X, y = self._validate_data(\n\u001b[0;32m--> 328\u001b[0;31m             \u001b[0mX\u001b[0m\u001b[0;34m,\u001b[0m \u001b[0my\u001b[0m\u001b[0;34m,\u001b[0m \u001b[0mmulti_output\u001b[0m\u001b[0;34m=\u001b[0m\u001b[0;32mTrue\u001b[0m\u001b[0;34m,\u001b[0m \u001b[0maccept_sparse\u001b[0m\u001b[0;34m=\u001b[0m\u001b[0;34m\"csc\"\u001b[0m\u001b[0;34m,\u001b[0m \u001b[0mdtype\u001b[0m\u001b[0;34m=\u001b[0m\u001b[0mDTYPE\u001b[0m\u001b[0;34m\u001b[0m\u001b[0;34m\u001b[0m\u001b[0m\n\u001b[0m\u001b[1;32m    329\u001b[0m         )\n\u001b[1;32m    330\u001b[0m         \u001b[0;32mif\u001b[0m \u001b[0msample_weight\u001b[0m \u001b[0;32mis\u001b[0m \u001b[0;32mnot\u001b[0m \u001b[0;32mNone\u001b[0m\u001b[0;34m:\u001b[0m\u001b[0;34m\u001b[0m\u001b[0;34m\u001b[0m\u001b[0m\n",
            "\u001b[0;32m/usr/local/lib/python3.7/dist-packages/sklearn/base.py\u001b[0m in \u001b[0;36m_validate_data\u001b[0;34m(self, X, y, reset, validate_separately, **check_params)\u001b[0m\n\u001b[1;32m    579\u001b[0m                 \u001b[0my\u001b[0m \u001b[0;34m=\u001b[0m \u001b[0mcheck_array\u001b[0m\u001b[0;34m(\u001b[0m\u001b[0my\u001b[0m\u001b[0;34m,\u001b[0m \u001b[0;34m**\u001b[0m\u001b[0mcheck_y_params\u001b[0m\u001b[0;34m)\u001b[0m\u001b[0;34m\u001b[0m\u001b[0;34m\u001b[0m\u001b[0m\n\u001b[1;32m    580\u001b[0m             \u001b[0;32melse\u001b[0m\u001b[0;34m:\u001b[0m\u001b[0;34m\u001b[0m\u001b[0;34m\u001b[0m\u001b[0m\n\u001b[0;32m--> 581\u001b[0;31m                 \u001b[0mX\u001b[0m\u001b[0;34m,\u001b[0m \u001b[0my\u001b[0m \u001b[0;34m=\u001b[0m \u001b[0mcheck_X_y\u001b[0m\u001b[0;34m(\u001b[0m\u001b[0mX\u001b[0m\u001b[0;34m,\u001b[0m \u001b[0my\u001b[0m\u001b[0;34m,\u001b[0m \u001b[0;34m**\u001b[0m\u001b[0mcheck_params\u001b[0m\u001b[0;34m)\u001b[0m\u001b[0;34m\u001b[0m\u001b[0;34m\u001b[0m\u001b[0m\n\u001b[0m\u001b[1;32m    582\u001b[0m             \u001b[0mout\u001b[0m \u001b[0;34m=\u001b[0m \u001b[0mX\u001b[0m\u001b[0;34m,\u001b[0m \u001b[0my\u001b[0m\u001b[0;34m\u001b[0m\u001b[0;34m\u001b[0m\u001b[0m\n\u001b[1;32m    583\u001b[0m \u001b[0;34m\u001b[0m\u001b[0m\n",
            "\u001b[0;32m/usr/local/lib/python3.7/dist-packages/sklearn/utils/validation.py\u001b[0m in \u001b[0;36mcheck_X_y\u001b[0;34m(X, y, accept_sparse, accept_large_sparse, dtype, order, copy, force_all_finite, ensure_2d, allow_nd, multi_output, ensure_min_samples, ensure_min_features, y_numeric, estimator)\u001b[0m\n\u001b[1;32m    974\u001b[0m         \u001b[0mensure_min_samples\u001b[0m\u001b[0;34m=\u001b[0m\u001b[0mensure_min_samples\u001b[0m\u001b[0;34m,\u001b[0m\u001b[0;34m\u001b[0m\u001b[0;34m\u001b[0m\u001b[0m\n\u001b[1;32m    975\u001b[0m         \u001b[0mensure_min_features\u001b[0m\u001b[0;34m=\u001b[0m\u001b[0mensure_min_features\u001b[0m\u001b[0;34m,\u001b[0m\u001b[0;34m\u001b[0m\u001b[0;34m\u001b[0m\u001b[0m\n\u001b[0;32m--> 976\u001b[0;31m         \u001b[0mestimator\u001b[0m\u001b[0;34m=\u001b[0m\u001b[0mestimator\u001b[0m\u001b[0;34m,\u001b[0m\u001b[0;34m\u001b[0m\u001b[0;34m\u001b[0m\u001b[0m\n\u001b[0m\u001b[1;32m    977\u001b[0m     )\n\u001b[1;32m    978\u001b[0m \u001b[0;34m\u001b[0m\u001b[0m\n",
            "\u001b[0;32m/usr/local/lib/python3.7/dist-packages/sklearn/utils/validation.py\u001b[0m in \u001b[0;36mcheck_array\u001b[0;34m(array, accept_sparse, accept_large_sparse, dtype, order, copy, force_all_finite, ensure_2d, allow_nd, ensure_min_samples, ensure_min_features, estimator)\u001b[0m\n\u001b[1;32m    744\u001b[0m                     \u001b[0marray\u001b[0m \u001b[0;34m=\u001b[0m \u001b[0marray\u001b[0m\u001b[0;34m.\u001b[0m\u001b[0mastype\u001b[0m\u001b[0;34m(\u001b[0m\u001b[0mdtype\u001b[0m\u001b[0;34m,\u001b[0m \u001b[0mcasting\u001b[0m\u001b[0;34m=\u001b[0m\u001b[0;34m\"unsafe\"\u001b[0m\u001b[0;34m,\u001b[0m \u001b[0mcopy\u001b[0m\u001b[0;34m=\u001b[0m\u001b[0;32mFalse\u001b[0m\u001b[0;34m)\u001b[0m\u001b[0;34m\u001b[0m\u001b[0;34m\u001b[0m\u001b[0m\n\u001b[1;32m    745\u001b[0m                 \u001b[0;32melse\u001b[0m\u001b[0;34m:\u001b[0m\u001b[0;34m\u001b[0m\u001b[0;34m\u001b[0m\u001b[0m\n\u001b[0;32m--> 746\u001b[0;31m                     \u001b[0marray\u001b[0m \u001b[0;34m=\u001b[0m \u001b[0mnp\u001b[0m\u001b[0;34m.\u001b[0m\u001b[0masarray\u001b[0m\u001b[0;34m(\u001b[0m\u001b[0marray\u001b[0m\u001b[0;34m,\u001b[0m \u001b[0morder\u001b[0m\u001b[0;34m=\u001b[0m\u001b[0morder\u001b[0m\u001b[0;34m,\u001b[0m \u001b[0mdtype\u001b[0m\u001b[0;34m=\u001b[0m\u001b[0mdtype\u001b[0m\u001b[0;34m)\u001b[0m\u001b[0;34m\u001b[0m\u001b[0;34m\u001b[0m\u001b[0m\n\u001b[0m\u001b[1;32m    747\u001b[0m             \u001b[0;32mexcept\u001b[0m \u001b[0mComplexWarning\u001b[0m \u001b[0;32mas\u001b[0m \u001b[0mcomplex_warning\u001b[0m\u001b[0;34m:\u001b[0m\u001b[0;34m\u001b[0m\u001b[0;34m\u001b[0m\u001b[0m\n\u001b[1;32m    748\u001b[0m                 raise ValueError(\n",
            "\u001b[0;32m/usr/local/lib/python3.7/dist-packages/pandas/core/series.py\u001b[0m in \u001b[0;36m__array__\u001b[0;34m(self, dtype)\u001b[0m\n\u001b[1;32m    855\u001b[0m               dtype='datetime64[ns]')\n\u001b[1;32m    856\u001b[0m         \"\"\"\n\u001b[0;32m--> 857\u001b[0;31m         \u001b[0;32mreturn\u001b[0m \u001b[0mnp\u001b[0m\u001b[0;34m.\u001b[0m\u001b[0masarray\u001b[0m\u001b[0;34m(\u001b[0m\u001b[0mself\u001b[0m\u001b[0;34m.\u001b[0m\u001b[0m_values\u001b[0m\u001b[0;34m,\u001b[0m \u001b[0mdtype\u001b[0m\u001b[0;34m)\u001b[0m\u001b[0;34m\u001b[0m\u001b[0;34m\u001b[0m\u001b[0m\n\u001b[0m\u001b[1;32m    858\u001b[0m \u001b[0;34m\u001b[0m\u001b[0m\n\u001b[1;32m    859\u001b[0m     \u001b[0;31m# ----------------------------------------------------------------------\u001b[0m\u001b[0;34m\u001b[0m\u001b[0;34m\u001b[0m\u001b[0;34m\u001b[0m\u001b[0m\n",
            "\u001b[0;31mValueError\u001b[0m: could not convert string to float: 'year female male coworker ratio half friend lady loyal af belief woman dramatic fickle harmful untrue partially reason people feel get close woman enfp relationship ground possible let te analyze enfps tend get high inxjs ni sometimes forget need make person number priority number ground logical awesome offer truth thing want people know really case people close anything tmi city people like trust look like picture people take option option far leave look like picture take halloween option halloween option mannnnnn jung would field day impress tulpa imaginary friend bore hell feel like good come rich complex mythology like scary current girlfriend first time ever strong intp way get get file pissy little enfp make feel would delete thing get use change come around file still exist empty besides line begin end delete emotion delete one day sure weird see someone else thing know exactly mean associate apartment loneliness fe much way bedroom teenager remind lot cozy little bear gonna run lot enfp cartoon character however jd scrub main character definite enfp plus disney aladdin enfp decent enough spin show many world kind day opal change color fire match nature day john steinbeck think enfp quote helpful see someone type overcome similar issue esp since speak similarly understand come also see manifest reality theory solve problem also helpful least however lot advice come accept helpful personal growth moreover mid..."
          ]
        }
      ]
    },
    {
      "cell_type": "code",
      "source": [
        "result_dir='./drive/MyDrive/OpenSource/'\n",
        "\n",
        "test2 = pd.read_csv(os.path.join(result_dir, 'result.txt'), encoding='ISO 8859-1', header=None, names=['posts'])\n",
        "predictionss = text_clf.predict(test2['posts'])\n",
        "\n",
        "print(predictionss)"
      ],
      "metadata": {
        "id": "179-WCsAXagV"
      },
      "execution_count": null,
      "outputs": []
    },
    {
      "cell_type": "code",
      "source": [
        "# submission\n",
        "sub_dir = './sub'\n",
        "if not os.path.exists(sub_dir):\n",
        "  os.mkdir(sub_dir)\n",
        "\n",
        "sub = pd.DataFrame(predictions)\n",
        "assert sub.shape == test.shape\n",
        "sub.to_csv(os.path.join(sub_dir, 'baseline.csv'), index=False, header=None) # no header\n",
        "sub.head()"
      ],
      "metadata": {
        "id": "UojbGb-ZafnE"
      },
      "execution_count": null,
      "outputs": []
    },
    {
      "cell_type": "markdown",
      "source": [
        "--------------------------- 평가지표를 위한 코드 -------------------------------\n",
        "\n",
        "PR Curve : https://www.kaggle.com/code/nicholasgah/optimal-probability-thresholds-using-pr-curve 참조\n",
        "\n",
        "3D PR Curve : https://ardentdays.tistory.com/20 참조\n",
        "\n",
        "matplotlib : https://wikidocs.net/92071 참조\n",
        "\n",
        "ROC Curve : https://ardentdays.tistory.com/21 참조\n",
        "\n",
        "AUC : https://jimmy-ai.tistory.com/345 참조\n",
        "\n",
        "--------------------------------------------------------------------------------"
      ],
      "metadata": {
        "id": "UZrSWA_9cqpc"
      }
    },
    {
      "cell_type": "code",
      "source": [
        "import numpy as np\n",
        "import matplotlib.pyplot as plt\n",
        "\n",
        "y_true = np.array([1,1,0,1,1,1,0,0,1,0,1,0,1,0,0,0,1,0,1,0])\n",
        "y_scores = np.array([0.9,0.8,0.7,0.6,0.55,0.54,0.53,0.52,0.51,0.505,0.4,0.39,0.38,0.37,0.36,0.35,0.34,0.33,0.3,0.1 ])\n",
        "\n",
        "def get_recall(y_true,y_scores,threshold):\n",
        "    predict_positive_num = len(y_scores[y_scores >= threshold])\n",
        "    tp = len( [x for x in y_true[:predict_positive_num] if x == 1] )\n",
        "    ground_truth  = len(y_true[y_true==1])\n",
        "    recall = tp / ground_truth\n",
        "    return recall\n",
        "\n",
        "def get_precision(y_true,y_scores,threshold):\n",
        "    predict_positive_num = len(y_scores[y_scores >= threshold])\n",
        "    tp = len( [x for x in y_true[:predict_positive_num] if x == 1] )\n",
        "    fp = len( [x for x in y_true[:predict_positive_num] if x == 0] )\n",
        "    precision = tp / (tp + fp) \n",
        "    return precision \n",
        "\n",
        "def recall_precision_plot(y_true, y_scores):\n",
        "    recall, precision = [] , []\n",
        "\n",
        "    for _ in y_scores: # y_scores 를 thresholds 처럼 사용했음\n",
        "        recall.append(get_recall(y_true, y_scores, _ ))\n",
        "        precision.append(get_precision(y_true,y_scores,_))\n",
        "    \n",
        "    fig = plt.figure(figsize = (9,6))\n",
        "    plt.plot(recall, precision)\n",
        "    plt.scatter(recall,precision)\n",
        "    plt.xlabel('Recall')\n",
        "    plt.ylabel('Precision')\n",
        "    plt.title('Precision-Recall Curve 2D')\n",
        "    plt.show()\n",
        "    \n",
        "recall_precision_plot(y_true,y_scores)"
      ],
      "metadata": {
        "id": "U6J9Kq5wc1DR"
      },
      "execution_count": null,
      "outputs": []
    },
    {
      "cell_type": "code",
      "source": [
        "\n",
        "from sklearn import svm, datasets\n",
        "from sklearn.metrics import roc_curve, auc\n",
        "from sklearn.model_selection import train_test_split\n",
        "from sklearn.preprocessing import label_binarize\n",
        "from sklearn.multiclass import OneVsRestClassifier\n",
        "from scipy import interp\n",
        "from sklearn.metrics import roc_auc_score\n",
        "\n",
        "# Import some data to play with\n",
        "iris = filename.load_iris()\n",
        "X = iris.data\n",
        "y = iris.target\n",
        "\n",
        "# Add noisy features to make the problem harder\n",
        "random_state = np.random.RandomState(0)\n",
        "n_samples, n_features = X.shape\n",
        "X = np.c_[X, random_state.randn(n_samples, 200 * n_features)]\n",
        "\n",
        "classifier = OneVsRestClassifier(svm.SVC(kernel='linear', probability=True,\n",
        "                                 random_state=random_state))\n",
        "y = label_binarize(y, classes=[0, 1, 2])\n",
        "n_classes = y.shape[1]\n",
        "y_score = classifier.fit(X_train, y_train).decision_function(X_test)\n",
        "\n",
        "# Compute ROC curve and ROC area for each class\n",
        "fpr = dict()\n",
        "tpr = dict()\n",
        "roc_auc = dict()\n",
        "for i in range(n_classes):\n",
        "    fpr[i], tpr[i], _ = roc_curve(y_test[:, i], y_score[:, i])\n",
        "    roc_auc[i] = auc(fpr[i], tpr[i])\n",
        "\n",
        "\n",
        "\n",
        "# Compute micro-average ROC curve and ROC area\n",
        "fpr[\"micro\"], tpr[\"micro\"], _ = roc_curve(y_test.ravel(), y_score.ravel())\n",
        "roc_auc[\"micro\"] = auc(fpr[\"micro\"], tpr[\"micro\"])\n",
        "#특정 클래스에 대한 ROC 곡선 플롯\n",
        "\n",
        " \n",
        "\n",
        "plt.figure()\n",
        "lw = 2\n",
        "plt.plot(fpr[2], tpr[2], color='darkorange',\n",
        "         lw=lw, label='ROC curve (area = %0.2f)' % roc_auc[2])\n",
        "plt.plot([0, 1], [0, 1], color='navy', lw=lw, linestyle='--')\n",
        "plt.xlim([0.0, 1.0])\n",
        "plt.ylim([0.0, 1.05])\n",
        "plt.xlabel('False Positive Rate')\n",
        "plt.ylabel('True Positive Rate')\n",
        "plt.title('Receiver operating characteristic example')\n",
        "plt.legend(loc=\"lower right\")\n",
        "plt.show()"
      ],
      "metadata": {
        "id": "o5cYjVtnWI-x"
      },
      "execution_count": null,
      "outputs": []
    }
  ],
  "metadata": {
    "colab": {
      "provenance": []
    },
    "kernelspec": {
      "display_name": "Python 3",
      "name": "python3"
    },
    "language_info": {
      "name": "python"
    }
  },
  "nbformat": 4,
  "nbformat_minor": 0
}